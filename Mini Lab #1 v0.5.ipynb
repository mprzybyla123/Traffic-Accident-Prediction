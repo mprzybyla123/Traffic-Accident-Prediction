{
 "cells": [
  {
   "cell_type": "markdown",
   "metadata": {},
   "source": [
    "# Mini-Lab #1          \n",
    "## MSDS 7331-401\n",
    "\n",
    "#### Project Team:\n",
    "+ Peter Byrd \n",
    "+ Matthew Przybyla  \n",
    "+ David Tran\n",
    "+ Amber Whelpley\n",
    "\n",
    "\n",
    "## Data Cleanup\n",
    "\n",
    "Before diving into model creation, we will cleanup some of the National Highway Traffic Safety Administration (NHTSA) data for use in our regression and SVM models.\n"
   ]
  },
  {
   "cell_type": "code",
   "execution_count": 1,
   "metadata": {
    "scrolled": false
   },
   "outputs": [
    {
     "data": {
      "text/html": [
       "<div>\n",
       "<style>\n",
       "    .dataframe thead tr:only-child th {\n",
       "        text-align: right;\n",
       "    }\n",
       "\n",
       "    .dataframe thead th {\n",
       "        text-align: left;\n",
       "    }\n",
       "\n",
       "    .dataframe tbody tr th {\n",
       "        vertical-align: top;\n",
       "    }\n",
       "</style>\n",
       "<table border=\"1\" class=\"dataframe\">\n",
       "  <thead>\n",
       "    <tr style=\"text-align: right;\">\n",
       "      <th></th>\n",
       "      <th>STATE</th>\n",
       "      <th>ST_CASE</th>\n",
       "      <th>VE_TOTAL</th>\n",
       "      <th>VE_FORMS</th>\n",
       "      <th>PVH_INVL</th>\n",
       "      <th>PEDS</th>\n",
       "      <th>PERNOTMVIT</th>\n",
       "      <th>PERMVIT</th>\n",
       "      <th>PERSONS</th>\n",
       "      <th>COUNTY</th>\n",
       "      <th>...</th>\n",
       "      <th>NOT_MIN</th>\n",
       "      <th>ARR_HOUR</th>\n",
       "      <th>ARR_MIN</th>\n",
       "      <th>HOSP_HR</th>\n",
       "      <th>HOSP_MN</th>\n",
       "      <th>CF1</th>\n",
       "      <th>CF2</th>\n",
       "      <th>CF3</th>\n",
       "      <th>FATALS</th>\n",
       "      <th>DRUNK_DR</th>\n",
       "    </tr>\n",
       "  </thead>\n",
       "  <tbody>\n",
       "    <tr>\n",
       "      <th>0</th>\n",
       "      <td>1</td>\n",
       "      <td>10001</td>\n",
       "      <td>1</td>\n",
       "      <td>1</td>\n",
       "      <td>0</td>\n",
       "      <td>0</td>\n",
       "      <td>0</td>\n",
       "      <td>1</td>\n",
       "      <td>1</td>\n",
       "      <td>127</td>\n",
       "      <td>...</td>\n",
       "      <td>99</td>\n",
       "      <td>2</td>\n",
       "      <td>58</td>\n",
       "      <td>88</td>\n",
       "      <td>88</td>\n",
       "      <td>0</td>\n",
       "      <td>0</td>\n",
       "      <td>0</td>\n",
       "      <td>1</td>\n",
       "      <td>1</td>\n",
       "    </tr>\n",
       "    <tr>\n",
       "      <th>1</th>\n",
       "      <td>1</td>\n",
       "      <td>10002</td>\n",
       "      <td>1</td>\n",
       "      <td>1</td>\n",
       "      <td>0</td>\n",
       "      <td>0</td>\n",
       "      <td>0</td>\n",
       "      <td>1</td>\n",
       "      <td>1</td>\n",
       "      <td>83</td>\n",
       "      <td>...</td>\n",
       "      <td>99</td>\n",
       "      <td>22</td>\n",
       "      <td>20</td>\n",
       "      <td>88</td>\n",
       "      <td>88</td>\n",
       "      <td>0</td>\n",
       "      <td>0</td>\n",
       "      <td>0</td>\n",
       "      <td>1</td>\n",
       "      <td>0</td>\n",
       "    </tr>\n",
       "    <tr>\n",
       "      <th>2</th>\n",
       "      <td>1</td>\n",
       "      <td>10003</td>\n",
       "      <td>1</td>\n",
       "      <td>1</td>\n",
       "      <td>0</td>\n",
       "      <td>0</td>\n",
       "      <td>0</td>\n",
       "      <td>2</td>\n",
       "      <td>2</td>\n",
       "      <td>11</td>\n",
       "      <td>...</td>\n",
       "      <td>99</td>\n",
       "      <td>1</td>\n",
       "      <td>45</td>\n",
       "      <td>99</td>\n",
       "      <td>99</td>\n",
       "      <td>0</td>\n",
       "      <td>0</td>\n",
       "      <td>0</td>\n",
       "      <td>1</td>\n",
       "      <td>1</td>\n",
       "    </tr>\n",
       "    <tr>\n",
       "      <th>3</th>\n",
       "      <td>1</td>\n",
       "      <td>10004</td>\n",
       "      <td>1</td>\n",
       "      <td>1</td>\n",
       "      <td>0</td>\n",
       "      <td>0</td>\n",
       "      <td>0</td>\n",
       "      <td>1</td>\n",
       "      <td>1</td>\n",
       "      <td>45</td>\n",
       "      <td>...</td>\n",
       "      <td>99</td>\n",
       "      <td>1</td>\n",
       "      <td>15</td>\n",
       "      <td>88</td>\n",
       "      <td>88</td>\n",
       "      <td>0</td>\n",
       "      <td>0</td>\n",
       "      <td>0</td>\n",
       "      <td>1</td>\n",
       "      <td>1</td>\n",
       "    </tr>\n",
       "    <tr>\n",
       "      <th>4</th>\n",
       "      <td>1</td>\n",
       "      <td>10005</td>\n",
       "      <td>2</td>\n",
       "      <td>2</td>\n",
       "      <td>0</td>\n",
       "      <td>0</td>\n",
       "      <td>0</td>\n",
       "      <td>2</td>\n",
       "      <td>2</td>\n",
       "      <td>45</td>\n",
       "      <td>...</td>\n",
       "      <td>99</td>\n",
       "      <td>7</td>\n",
       "      <td>16</td>\n",
       "      <td>88</td>\n",
       "      <td>88</td>\n",
       "      <td>0</td>\n",
       "      <td>0</td>\n",
       "      <td>0</td>\n",
       "      <td>1</td>\n",
       "      <td>0</td>\n",
       "    </tr>\n",
       "  </tbody>\n",
       "</table>\n",
       "<p>5 rows × 52 columns</p>\n",
       "</div>"
      ],
      "text/plain": [
       "   STATE  ST_CASE  VE_TOTAL  VE_FORMS  PVH_INVL  PEDS  PERNOTMVIT  PERMVIT  \\\n",
       "0      1    10001         1         1         0     0           0        1   \n",
       "1      1    10002         1         1         0     0           0        1   \n",
       "2      1    10003         1         1         0     0           0        2   \n",
       "3      1    10004         1         1         0     0           0        1   \n",
       "4      1    10005         2         2         0     0           0        2   \n",
       "\n",
       "   PERSONS  COUNTY    ...     NOT_MIN  ARR_HOUR  ARR_MIN  HOSP_HR  HOSP_MN  \\\n",
       "0        1     127    ...          99         2       58       88       88   \n",
       "1        1      83    ...          99        22       20       88       88   \n",
       "2        2      11    ...          99         1       45       99       99   \n",
       "3        1      45    ...          99         1       15       88       88   \n",
       "4        2      45    ...          99         7       16       88       88   \n",
       "\n",
       "   CF1  CF2  CF3  FATALS  DRUNK_DR  \n",
       "0    0    0    0       1         1  \n",
       "1    0    0    0       1         0  \n",
       "2    0    0    0       1         1  \n",
       "3    0    0    0       1         1  \n",
       "4    0    0    0       1         0  \n",
       "\n",
       "[5 rows x 52 columns]"
      ]
     },
     "execution_count": 1,
     "metadata": {},
     "output_type": "execute_result"
    }
   ],
   "source": [
    "#Importing the Libraries \n",
    "\n",
    "import pandas as pd\n",
    "import numpy as np\n",
    "from __future__ import print_function \n",
    "\n",
    "%matplotlib inline\n",
    "import warnings \n",
    "warnings.filterwarnings('ignore')\n",
    "\n",
    "#Read the Data\n",
    "df = pd.read_csv(\"/Users/pbyrd/Data/NHTSA/accident.csv\")\n",
    "\n",
    "#Review the data\n",
    "df.head()"
   ]
  },
  {
   "cell_type": "markdown",
   "metadata": {},
   "source": [
    "To aid in our interpretation, the variables TOT_PERS and TIME were created. TOT_PERS is the sum of all persons involved in each accident including pedestrians.  TIME is simply the hour and minute combined into a single variable. \n",
    "\n",
    "In addition, the number of fatalities was converted into a binary variable as our intent is to predict whether an accident results in multiple or single fatalities. This allows us to see that there were 29,816 accidents involving a single fatality and 2,350 resulting in more than one fatality.\n",
    "\n",
    "Similarly, the work zone and rural/urban attributes were converted to binary variables to simplify analysis."
   ]
  },
  {
   "cell_type": "code",
   "execution_count": 2,
   "metadata": {},
   "outputs": [
    {
     "name": "stdout",
     "output_type": "stream",
     "text": [
      "FATALS\n",
      "0    29816\n",
      "1     2350\n",
      "Name: FATALS, dtype: int64\n"
     ]
    }
   ],
   "source": [
    "# Let's combine some attributes for easier interpretation:\n",
    "\n",
    "# Total number of persons involved in the accident\n",
    "df['TOT_PERS'] = df['PERMVIT'] + df['PERNOTMVIT'] + df['PEDS']\n",
    "\n",
    "# Combine HOUR and MINUTE into a single TIME attribute\n",
    "df['TIME'] = df['HOUR'] + df['MINUTE']/60\n",
    "\n",
    "# Let's create a binary attribute from FATALS to signify single or multi-person fatality. \n",
    "#   We will use 0 to represent a single fatality, and 1 to represent a multi-person fatality.\n",
    "\n",
    "df['FATALS'] = (df['FATALS'] > 1)*1     # Use a 1 in FATALS if there is more than 1 fatality\n",
    "df['WRK_ZONE'] = (df['WRK_ZONE']>0)*1   # Use a 1 if in a workzone, 0 if not\n",
    "df['RUR_URB'] = (df['RUR_URB']<2)*1     # Use a 1 if Urban, 0 if rural\n",
    "                   \n",
    "df_fatal = df.groupby(by='FATALS')\n",
    "# Number of accidents sorted by single fatality or multi-fatality accidents\n",
    "print (df_fatal.FATALS.count())\n"
   ]
  },
  {
   "cell_type": "markdown",
   "metadata": {},
   "source": [
    "Using the correlation matrix from our previous analysis, duplicate attributes and attributes with low correlation to the number of fatalities were removed."
   ]
  },
  {
   "cell_type": "code",
   "execution_count": 3,
   "metadata": {},
   "outputs": [
    {
     "data": {
      "text/html": [
       "<div>\n",
       "<style>\n",
       "    .dataframe thead tr:only-child th {\n",
       "        text-align: right;\n",
       "    }\n",
       "\n",
       "    .dataframe thead th {\n",
       "        text-align: left;\n",
       "    }\n",
       "\n",
       "    .dataframe tbody tr th {\n",
       "        vertical-align: top;\n",
       "    }\n",
       "</style>\n",
       "<table border=\"1\" class=\"dataframe\">\n",
       "  <thead>\n",
       "    <tr style=\"text-align: right;\">\n",
       "      <th></th>\n",
       "      <th>MONTH</th>\n",
       "      <th>DAY_WEEK</th>\n",
       "      <th>RUR_URB</th>\n",
       "      <th>LATITUDE</th>\n",
       "      <th>LONGITUD</th>\n",
       "      <th>HARM_EV</th>\n",
       "      <th>WRK_ZONE</th>\n",
       "      <th>WEATHER1</th>\n",
       "      <th>WEATHER2</th>\n",
       "      <th>WEATHER</th>\n",
       "      <th>SCH_BUS</th>\n",
       "      <th>FATALS</th>\n",
       "      <th>DRUNK_DR</th>\n",
       "      <th>TOT_PERS</th>\n",
       "      <th>TIME</th>\n",
       "    </tr>\n",
       "  </thead>\n",
       "  <tbody>\n",
       "    <tr>\n",
       "      <th>0</th>\n",
       "      <td>1</td>\n",
       "      <td>5</td>\n",
       "      <td>1</td>\n",
       "      <td>33.878653</td>\n",
       "      <td>-87.325328</td>\n",
       "      <td>35</td>\n",
       "      <td>0</td>\n",
       "      <td>1</td>\n",
       "      <td>0</td>\n",
       "      <td>1</td>\n",
       "      <td>0</td>\n",
       "      <td>0</td>\n",
       "      <td>1</td>\n",
       "      <td>1</td>\n",
       "      <td>2.666667</td>\n",
       "    </tr>\n",
       "    <tr>\n",
       "      <th>1</th>\n",
       "      <td>1</td>\n",
       "      <td>5</td>\n",
       "      <td>1</td>\n",
       "      <td>34.910442</td>\n",
       "      <td>-86.908708</td>\n",
       "      <td>34</td>\n",
       "      <td>0</td>\n",
       "      <td>10</td>\n",
       "      <td>0</td>\n",
       "      <td>10</td>\n",
       "      <td>0</td>\n",
       "      <td>0</td>\n",
       "      <td>0</td>\n",
       "      <td>1</td>\n",
       "      <td>22.216667</td>\n",
       "    </tr>\n",
       "    <tr>\n",
       "      <th>2</th>\n",
       "      <td>1</td>\n",
       "      <td>5</td>\n",
       "      <td>1</td>\n",
       "      <td>32.142006</td>\n",
       "      <td>-85.758456</td>\n",
       "      <td>42</td>\n",
       "      <td>0</td>\n",
       "      <td>1</td>\n",
       "      <td>0</td>\n",
       "      <td>1</td>\n",
       "      <td>0</td>\n",
       "      <td>0</td>\n",
       "      <td>1</td>\n",
       "      <td>2</td>\n",
       "      <td>1.416667</td>\n",
       "    </tr>\n",
       "    <tr>\n",
       "      <th>3</th>\n",
       "      <td>1</td>\n",
       "      <td>1</td>\n",
       "      <td>1</td>\n",
       "      <td>31.439814</td>\n",
       "      <td>-85.510300</td>\n",
       "      <td>53</td>\n",
       "      <td>0</td>\n",
       "      <td>10</td>\n",
       "      <td>0</td>\n",
       "      <td>10</td>\n",
       "      <td>0</td>\n",
       "      <td>0</td>\n",
       "      <td>1</td>\n",
       "      <td>1</td>\n",
       "      <td>0.950000</td>\n",
       "    </tr>\n",
       "    <tr>\n",
       "      <th>4</th>\n",
       "      <td>1</td>\n",
       "      <td>4</td>\n",
       "      <td>0</td>\n",
       "      <td>31.319331</td>\n",
       "      <td>-85.515100</td>\n",
       "      <td>12</td>\n",
       "      <td>0</td>\n",
       "      <td>1</td>\n",
       "      <td>0</td>\n",
       "      <td>1</td>\n",
       "      <td>0</td>\n",
       "      <td>0</td>\n",
       "      <td>0</td>\n",
       "      <td>2</td>\n",
       "      <td>7.150000</td>\n",
       "    </tr>\n",
       "  </tbody>\n",
       "</table>\n",
       "</div>"
      ],
      "text/plain": [
       "   MONTH  DAY_WEEK  RUR_URB   LATITUDE   LONGITUD  HARM_EV  WRK_ZONE  \\\n",
       "0      1         5        1  33.878653 -87.325328       35         0   \n",
       "1      1         5        1  34.910442 -86.908708       34         0   \n",
       "2      1         5        1  32.142006 -85.758456       42         0   \n",
       "3      1         1        1  31.439814 -85.510300       53         0   \n",
       "4      1         4        0  31.319331 -85.515100       12         0   \n",
       "\n",
       "   WEATHER1  WEATHER2  WEATHER  SCH_BUS  FATALS  DRUNK_DR  TOT_PERS       TIME  \n",
       "0         1         0        1        0       0         1         1   2.666667  \n",
       "1        10         0       10        0       0         0         1  22.216667  \n",
       "2         1         0        1        0       0         1         2   1.416667  \n",
       "3        10         0       10        0       0         1         1   0.950000  \n",
       "4         1         0        1        0       0         0         2   7.150000  "
      ]
     },
     "execution_count": 3,
     "metadata": {},
     "output_type": "execute_result"
    }
   ],
   "source": [
    "# Remove non-helpful and duplicate attributes \n",
    "# Correlation matrix from Lab 1 was used to determine attributes with limited correlation to FATALS\n",
    "# Some categorical/coded variables were removed\n",
    "\n",
    "excludeFields = ['ST_CASE','VE_CASE','VE_TOTAL','VE_FORMS','PEDS','PERNOTMVIT','PERMVIT','PERSONS','YEAR','HOUR',\n",
    "                 'MINUTE','PVH_INVL','NHS','FUNC-SYS','RD_OWNER','ROUTE','TWAY_ID','TYP_INT','CITY','STATE','COUNTY',\n",
    "                 'TWAY_ID2','MILEPT','SP_JUR','MAN_COLL','RELJCT1','RELJCT2', 'REL_ROAD', 'LGT_COND','DAY','FUNC_SYS',\n",
    "                 'RAIL','NOT_HOUR','NOT_MIN','ARR_HOUR','ARR_MIN','HOSP_HR','HOSP_MN','CF1','CF2','CF3']\n",
    "\n",
    "keepFields = [col for col in df.columns if col not in excludeFields]\n",
    "\n",
    "dfData = df[keepFields]\n",
    "\n",
    "dfData.head()"
   ]
  },
  {
   "cell_type": "code",
   "execution_count": 4,
   "metadata": {},
   "outputs": [
    {
     "name": "stdout",
     "output_type": "stream",
     "text": [
      "<class 'pandas.core.frame.DataFrame'>\n",
      "Int64Index: 32166 entries, 0 to 32165\n",
      "Data columns (total 15 columns):\n",
      "MONTH       32166 non-null int64\n",
      "DAY_WEEK    32166 non-null int64\n",
      "RUR_URB     32166 non-null int64\n",
      "LATITUDE    32166 non-null float64\n",
      "LONGITUD    32166 non-null float64\n",
      "WRK_ZONE    32166 non-null int64\n",
      "WEATHER1    32166 non-null int64\n",
      "WEATHER2    32166 non-null int64\n",
      "WEATHER     32166 non-null int64\n",
      "SCH_BUS     32166 non-null int64\n",
      "FATALS      32166 non-null int64\n",
      "DRUNK_DR    32166 non-null int64\n",
      "TOT_PERS    32166 non-null int64\n",
      "TIME        32166 non-null float64\n",
      "HARM_EV     32166 non-null int64\n",
      "dtypes: float64(3), int64(12)\n",
      "memory usage: 3.9 MB\n"
     ]
    }
   ],
   "source": [
    "# Impute some missing values and grouped by their\n",
    "\n",
    "df_grouped = dfData.groupby(by=['HARM_EV'])\n",
    "\n",
    "# now use this grouping to fill the data set in each group, then transform back\n",
    "# fill in the numeric values\n",
    "df_imputed = df_grouped.transform(lambda grp: grp.fillna(grp.median()))\n",
    "\n",
    "# fill in the categorical values\n",
    "df_imputed[['HARM_EV']] = df_grouped[['HARM_EV']].apply(lambda grp: grp.fillna(grp.mode()))\n",
    "\n",
    "# Drop rows that still had missing values after grouped imputation\n",
    "df_imputed.dropna(inplace=True)\n",
    "\n",
    "df_imputed.info()"
   ]
  },
  {
   "cell_type": "markdown",
   "metadata": {},
   "source": [
    "## Create Models \n",
    "\n",
    "Now that we have structured the dataset, we can create our models.  We will use an 80/20 training data to test data split, and 10 fold cross validation.\n"
   ]
  },
  {
   "cell_type": "code",
   "execution_count": 5,
   "metadata": {},
   "outputs": [
    {
     "name": "stdout",
     "output_type": "stream",
     "text": [
      "ShuffleSplit(n_splits=10, random_state=None, test_size=0.2, train_size=None)\n"
     ]
    }
   ],
   "source": [
    "# Training and Testing Split 80/20 (Split)\n",
    "\n",
    "from sklearn.model_selection import ShuffleSplit\n",
    "\n",
    "# We want to predict the X and Y values as follows:\n",
    "if 'FATALS' in df_imputed:\n",
    "    y = df_imputed['FATALS'].values\n",
    "    del df_imputed['FATALS']\n",
    "    x = df_imputed.values \n",
    "\n",
    "    ## X and y are now numpy matrices, by calling 'values' on the pandas data frames we\n",
    "    #    have converted them into simple matrices to use with scikit learn\n",
    "# to use the cross validation object in scikit learn, we need to grab an instance\n",
    "#    of the object and set it up. This object will be able to split our data into \n",
    "#    training and testing splits\n",
    "num_cv_iterations = 10\n",
    "num_instances = len(y)\n",
    "cv_object = ShuffleSplit(n_splits=num_cv_iterations,\n",
    "                         test_size  = 0.2)\n",
    "                         \n",
    "print(cv_object)"
   ]
  },
  {
   "cell_type": "markdown",
   "metadata": {},
   "source": [
    "\n",
    "### Logistic Regression\n",
    "\n",
    "###### Model 1: logistic regression model with parameters Penalty = l2; Cost = 1.0; class_weight = None\n"
   ]
  },
  {
   "cell_type": "code",
   "execution_count": 6,
   "metadata": {},
   "outputs": [
    {
     "name": "stdout",
     "output_type": "stream",
     "text": [
      "====Iteration 0  ====\n",
      "accuracy 0.927416847995\n",
      "confusion matrix\n",
      " [[5955   20]\n",
      " [ 447   12]]\n",
      "====Iteration 1  ====\n",
      "accuracy 0.92508548337\n",
      "confusion matrix\n",
      " [[5942   26]\n",
      " [ 456   10]]\n",
      "====Iteration 2  ====\n",
      "accuracy 0.927261423687\n",
      "confusion matrix\n",
      " [[5954   31]\n",
      " [ 437   12]]\n",
      "====Iteration 3  ====\n",
      "accuracy 0.925707180603\n",
      "confusion matrix\n",
      " [[5939   21]\n",
      " [ 457   17]]\n",
      "====Iteration 4  ====\n",
      "accuracy 0.93456636618\n",
      "confusion matrix\n",
      " [[5994   17]\n",
      " [ 404   19]]\n",
      "====Iteration 5  ====\n",
      "accuracy 0.926484302145\n",
      "confusion matrix\n",
      " [[5945   23]\n",
      " [ 450   16]]\n",
      "====Iteration 6  ====\n",
      "accuracy 0.926484302145\n",
      "confusion matrix\n",
      " [[5950   13]\n",
      " [ 460   11]]\n",
      "====Iteration 7  ====\n",
      "accuracy 0.920733602735\n",
      "confusion matrix\n",
      " [[5914   28]\n",
      " [ 482   10]]\n",
      "====Iteration 8  ====\n",
      "accuracy 0.927105999378\n",
      "confusion matrix\n",
      " [[5953   21]\n",
      " [ 448   12]]\n",
      "====Iteration 9  ====\n",
      "accuracy 0.924619210445\n",
      "confusion matrix\n",
      " [[5938   29]\n",
      " [ 456   11]]\n"
     ]
    }
   ],
   "source": [
    "# MODEL 1 (Cost = 1.0, class_weight=None)\n",
    "\n",
    "from sklearn.linear_model import LogisticRegression\n",
    "from sklearn import metrics as mt\n",
    "\n",
    "lr_clf = LogisticRegression(penalty='l2', C=1.0, class_weight=None)\n",
    "\n",
    "iter_num=0\n",
    "for iter_num, (train_indices, test_indices) in enumerate(cv_object.split(x,y)):\n",
    "    lr_clf.fit(x[train_indices],y[train_indices])  # train object\n",
    "    y_hat = lr_clf.predict(x[test_indices]) # get test set predictions\n",
    "\n",
    "    # print the accuracy and confusion matrix \n",
    "    print(\"====Iteration\",iter_num,\" ====\")\n",
    "    print(\"accuracy\", mt.accuracy_score(y[test_indices],y_hat)) \n",
    "    print(\"confusion matrix\\n\",mt.confusion_matrix(y[test_indices],y_hat))\n"
   ]
  },
  {
   "cell_type": "markdown",
   "metadata": {},
   "source": [
    "\n",
    "The accuracy of this first model is good at about 92%, and from the confusion matrices we see a lot of True Positive predictions.  The model appears to predict more False Positives than it does False Negatives, and very few True Negatives.  This model definitely errs on the side of predicting single-fatality accidents.\n",
    "\n",
    "This phenomenon occurs due to the extremely high number of single-fatality accidents in our data.  The model almost always predicts a single-fatality accident.  Even though there are several multi-fatality accidents, the number of these pale in comparison to single-victim accidents.\n"
   ]
  },
  {
   "cell_type": "markdown",
   "metadata": {},
   "source": [
    "\n",
    "###### Model 2: logistic regression model with parameters Penalty = l2; Cost = 0.5; class_weight = 'balanced'"
   ]
  },
  {
   "cell_type": "code",
   "execution_count": 7,
   "metadata": {
    "scrolled": false
   },
   "outputs": [
    {
     "name": "stdout",
     "output_type": "stream",
     "text": [
      "====Iteration 0  ====\n",
      "accuracy 0.773080509792\n",
      "confusion matrix\n",
      " [[4703 1281]\n",
      " [ 179  271]]\n",
      "====Iteration 1  ====\n",
      "accuracy 0.7732359341\n",
      "confusion matrix\n",
      " [[4655 1267]\n",
      " [ 192  320]]\n",
      "====Iteration 2  ====\n",
      "accuracy 0.77230338825\n",
      "confusion matrix\n",
      " [[4665 1309]\n",
      " [ 156  304]]\n",
      "====Iteration 3  ====\n",
      "accuracy 0.770282872241\n",
      "confusion matrix\n",
      " [[4660 1298]\n",
      " [ 180  296]]\n",
      "====Iteration 4  ====\n",
      "accuracy 0.777743239043\n",
      "confusion matrix\n",
      " [[4739 1242]\n",
      " [ 188  265]]\n",
      "====Iteration 5  ====\n",
      "accuracy 0.76562014299\n",
      "confusion matrix\n",
      " [[4643 1329]\n",
      " [ 179  283]]\n",
      "====Iteration 6  ====\n",
      "accuracy 0.777898663351\n",
      "confusion matrix\n",
      " [[4705 1252]\n",
      " [ 177  300]]\n",
      "====Iteration 7  ====\n",
      "accuracy 0.771992539633\n",
      "confusion matrix\n",
      " [[4645 1285]\n",
      " [ 182  322]]\n",
      "====Iteration 8  ====\n",
      "accuracy 0.753652471247\n",
      "confusion matrix\n",
      " [[4563 1400]\n",
      " [ 185  286]]\n",
      "====Iteration 9  ====\n",
      "accuracy 0.762977929748\n",
      "confusion matrix\n",
      " [[4623 1363]\n",
      " [ 162  286]]\n"
     ]
    }
   ],
   "source": [
    "# MODEL 2 (Cost = 0.5, class_weight='balanced')\n",
    "\n",
    "lr_clf = LogisticRegression(penalty='l2', C=0.5, class_weight='balanced')\n",
    "\n",
    "\n",
    "iter_num=0\n",
    "for iter_num, (train_indices, test_indices) in enumerate(cv_object.split(x,y)):\n",
    "    lr_clf.fit(x[train_indices],y[train_indices])  # train object\n",
    "    y_hat = lr_clf.predict(x[test_indices]) # get test set precitions\n",
    "\n",
    "    # print the accuracy and confusion matrix \n",
    "    print(\"====Iteration\",iter_num,\" ====\")\n",
    "    print(\"accuracy\", mt.accuracy_score(y[test_indices],y_hat)) \n",
    "    print(\"confusion matrix\\n\",mt.confusion_matrix(y[test_indices],y_hat))\n"
   ]
  },
  {
   "cell_type": "markdown",
   "metadata": {},
   "source": [
    "\n",
    "The accuracy of this model is significantly lower than the previous model, at approximately 77%. From the confusion matrices we still see a lot of True Positive predictions, but also many more False Negative predictions than the previous model.  There are more True Negatives predictions, but this comes at the cost of a loss in overall accuracy.  This model errs on the side of predicting more multi-fatality accidents than the previous model.\n",
    "\n",
    "In order to experiment a bit with how much the differing cost affects model accuracy an interactive widget was used (below)."
   ]
  },
  {
   "cell_type": "code",
   "execution_count": 8,
   "metadata": {},
   "outputs": [
    {
     "data": {
      "application/vnd.jupyter.widget-view+json": {
       "model_id": "900faaedb38c414bb4a33fd66f5479b9",
       "version_major": 2,
       "version_minor": 0
      },
      "text/plain": [
       "A Jupyter Widget"
      ]
     },
     "metadata": {},
     "output_type": "display_data"
    },
    {
     "data": {
      "text/plain": [
       "<function __main__.lr_explor>"
      ]
     },
     "execution_count": 8,
     "metadata": {},
     "output_type": "execute_result"
    }
   ],
   "source": [
    "# Cost parameter variation \n",
    "\n",
    "from sklearn.model_selection import cross_val_score\n",
    "accuracies = cross_val_score(lr_clf, x, y=y, cv=cv_object)\n",
    "\n",
    "# here we can change some of the parameters interactively\n",
    "\n",
    "from ipywidgets import widgets as wd\n",
    "\n",
    "def lr_explor(cost):\n",
    "    lr_clf = LogisticRegression(penalty='l2', C=cost, class_weight=None) # get object\n",
    "    accuracies = cross_val_score(lr_clf,x,y=y,cv=cv_object) # this also can help with parallelism\n",
    "    print(accuracies)\n",
    "\n",
    "wd.interact(lr_explor,cost=(0.001,5.0,0.05),__manual=True)"
   ]
  },
  {
   "cell_type": "markdown",
   "metadata": {},
   "source": [
    "\n",
    "Adjusting the Cost of the model has minimal impact on the overall model accuracy.  We moved from 0.15 all the way up to 4.95 without seeing a large difference, and ultimately settled on 0.5 for the cost.\n",
    "\n",
    "\n",
    "Now let's normalize the features and run the model once again with a Cost of 0.5 and class_weight=None.\n"
   ]
  },
  {
   "cell_type": "code",
   "execution_count": 9,
   "metadata": {
    "collapsed": true
   },
   "outputs": [],
   "source": [
    "from sklearn.preprocessing import StandardScaler\n",
    "\n",
    "# set the training and testing variable for one single iteration\n",
    "for train_indices, test_indices in cv_object.split(x,y): \n",
    "\n",
    "    X_train = x[train_indices]\n",
    "    y_train = y[train_indices]\n",
    "    \n",
    "    X_test = x[test_indices]\n",
    "    y_test = y[test_indices]\n",
    "\n",
    "scl_obj = StandardScaler()\n",
    "scl_obj.fit(X_train)   \n",
    "\n",
    "X_train_scaled = scl_obj.transform(X_train)\n",
    "X_test_scaled = scl_obj.transform(X_test)\n"
   ]
  },
  {
   "cell_type": "markdown",
   "metadata": {},
   "source": [
    "##### Model 3: scaled logistic regression model with parameters Penalty='l2'; C=0.05; class_weight=None"
   ]
  },
  {
   "cell_type": "code",
   "execution_count": 10,
   "metadata": {},
   "outputs": [
    {
     "name": "stdout",
     "output_type": "stream",
     "text": [
      "accuracy: 0.926328877836\n",
      "[[5947   24]\n",
      " [ 450   13]]\n",
      "WEATHER has weight of -0.132030897165\n",
      "SCH_BUS has weight of -0.0814522170885\n",
      "TIME has weight of -0.0626287698033\n",
      "LATITUDE has weight of -0.0493734171718\n",
      "WEATHER2 has weight of -0.0189562889989\n",
      "DAY_WEEK has weight of -0.0117043799354\n",
      "WRK_ZONE has weight of -0.00862816734872\n",
      "MONTH has weight of 0.032348378121\n",
      "LONGITUD has weight of 0.0325483918982\n",
      "HARM_EV has weight of 0.130018801904\n",
      "WEATHER1 has weight of 0.131130081085\n",
      "DRUNK_DR has weight of 0.251618502784\n",
      "RUR_URB has weight of 0.334444540253\n",
      "TOT_PERS has weight of 0.655709428028\n"
     ]
    }
   ],
   "source": [
    "# MODEL 3 (Normalized, Cost = 0.5, class_weight=None)\n",
    "\n",
    "from sklearn.preprocessing import StandardScaler\n",
    "\n",
    "# scale attributes by the training set\n",
    "scl_obj = StandardScaler()\n",
    "scl_obj.fit(X_train) # find scalings for each column that make this zero mean and unit std\n",
    "# the line of code above only looks at training data to get mean and std and we can use it \n",
    "# to transform new feature data\n",
    "\n",
    "X_train_scaled = scl_obj.transform(X_train) # apply to training\n",
    "X_test_scaled = scl_obj.transform(X_test) # apply those means and std to the test set\n",
    "\n",
    "# train the model just as before\n",
    "lr_clf = LogisticRegression(penalty='l2', C=0.05,class_weight=None)\n",
    "lr_clf.fit(X_train_scaled,y_train)  # train object\n",
    "\n",
    "y_hat = lr_clf.predict(X_test_scaled) # get test set predictions\n",
    "\n",
    "acc = mt.accuracy_score(y_test,y_hat)\n",
    "conf = mt.confusion_matrix(y_test,y_hat)\n",
    "print('accuracy:', acc )\n",
    "print(conf )\n",
    "\n",
    "# sort these attributes and spit them out\n",
    "zip_vars = zip(lr_clf.coef_.T,df_imputed.columns) # combine attributes\n",
    "for coef, name in sorted(zip_vars):\n",
    "    print(name, 'has weight of', coef[0]) # now print them out"
   ]
  },
  {
   "cell_type": "markdown",
   "metadata": {},
   "source": [
    "\n",
    "This model provides good accuracy at about 93%.  There are still a large number of True Positive results.  It tends to predict more False Positive results than False Negative results.\n",
    "\n",
    "The weights of the attributes were graphed for a visual review and will be discussed later.\n"
   ]
  },
  {
   "cell_type": "code",
   "execution_count": 11,
   "metadata": {
    "scrolled": true
   },
   "outputs": [
    {
     "data": {
      "image/png": "[encoded data removed]",
      "text/plain": [
       "<matplotlib.figure.Figure at 0x103c91cc0>"
      ]
     },
     "metadata": {},
     "output_type": "display_data"
    }
   ],
   "source": [
    "# now let's make a pandas Series with the names and values, and plot them\n",
    "from matplotlib import pyplot as plt\n",
    "%matplotlib inline\n",
    "plt.style.use('ggplot')\n",
    "\n",
    "# Visualizes the variables using matplotlib in a bar chart \n",
    "weights = pd.Series(lr_clf.coef_[0],index=df_imputed.columns)\n",
    "weights.plot(kind='bar')\n",
    "plt.show()"
   ]
  },
  {
   "cell_type": "markdown",
   "metadata": {},
   "source": [
    "\n",
    "### Support Vector Machines\n"
   ]
  },
  {
   "cell_type": "code",
   "execution_count": 12,
   "metadata": {},
   "outputs": [
    {
     "name": "stdout",
     "output_type": "stream",
     "text": [
      "accuracy: 0.928038545228\n",
      "[[5971    0]\n",
      " [ 463    0]]\n"
     ]
    }
   ],
   "source": [
    "# lets investigate SVMs on the data and play with the parameters and kernels\n",
    "from sklearn.svm import SVC\n",
    "\n",
    "# train the model just as before\n",
    "svm_clf = SVC(C=0.5, kernel='rbf', degree=3, gamma='auto') # get object\n",
    "svm_clf.fit(X_train_scaled, y_train)  # train object\n",
    "\n",
    "y_hat = svm_clf.predict(X_test_scaled) # get test set predictions\n",
    "\n",
    "acc = mt.accuracy_score(y_test,y_hat)\n",
    "conf = mt.confusion_matrix(y_test,y_hat)\n",
    "print('accuracy:', acc )\n",
    "print(conf)\n",
    " "
   ]
  },
  {
   "cell_type": "markdown",
   "metadata": {},
   "source": [
    "\n",
    "For this instance, the accuracy was predicted to be approximately 93% by the SVM.\n"
   ]
  },
  {
   "cell_type": "code",
   "execution_count": 13,
   "metadata": {
    "scrolled": true
   },
   "outputs": [
    {
     "name": "stdout",
     "output_type": "stream",
     "text": [
      "(5789, 14)\n",
      "(5789,)\n",
      "[3902 1887]\n"
     ]
    }
   ],
   "source": [
    "# look at the support vectors\n",
    "print(svm_clf.support_vectors_.shape)\n",
    "print(svm_clf.support_.shape)\n",
    "print(svm_clf.n_support_ )"
   ]
  },
  {
   "cell_type": "code",
   "execution_count": 14,
   "metadata": {},
   "outputs": [
    {
     "name": "stdout",
     "output_type": "stream",
     "text": [
      "<class 'pandas.core.frame.DataFrame'>\n",
      "Int64Index: 5789 entries, 16170 to 17317\n",
      "Data columns (total 15 columns):\n",
      "MONTH       5789 non-null int64\n",
      "DAY_WEEK    5789 non-null int64\n",
      "RUR_URB     5789 non-null int64\n",
      "LATITUDE    5789 non-null float64\n",
      "LONGITUD    5789 non-null float64\n",
      "WRK_ZONE    5789 non-null int64\n",
      "WEATHER1    5789 non-null int64\n",
      "WEATHER2    5789 non-null int64\n",
      "WEATHER     5789 non-null int64\n",
      "SCH_BUS     5789 non-null int64\n",
      "DRUNK_DR    5789 non-null int64\n",
      "TOT_PERS    5789 non-null int64\n",
      "TIME        5789 non-null float64\n",
      "HARM_EV     5789 non-null int64\n",
      "FATALS      5789 non-null int64\n",
      "dtypes: float64(3), int64(12)\n",
      "memory usage: 723.6 KB\n"
     ]
    }
   ],
   "source": [
    "# Let's look at the instances that were chosen as support vectors\n",
    "\n",
    "# make a dataframe of the training data\n",
    "df_tested_on = df_imputed.iloc[train_indices] \n",
    "# now get the support vectors from the trained model\n",
    "df_support = df_tested_on.iloc[svm_clf.support_,:]\n",
    "\n",
    "df_support['FATALS'] = y[svm_clf.support_] # add back in the 'FATALS' Column to the pandas dataframe\n",
    "df_imputed['FATALS'] = y                   # also add it back in for the original data\n",
    "df_support.info()"
   ]
  },
  {
   "cell_type": "code",
   "execution_count": 15,
   "metadata": {},
   "outputs": [
    {
     "data": {
      "image/png": "[encoded data removed]",
      "text/plain": [
       "<matplotlib.figure.Figure at 0x109e66dd8>"
      ]
     },
     "metadata": {},
     "output_type": "display_data"
    },
    {
     "data": {
      "image/png": "[encoded data removed]",
      "text/plain": [
       "<matplotlib.figure.Figure at 0x111a13198>"
      ]
     },
     "metadata": {},
     "output_type": "display_data"
    },
    {
     "data": {
      "image/png": "[encoded data removed]",
      "text/plain": [
       "<matplotlib.figure.Figure at 0x1119d3cf8>"
      ]
     },
     "metadata": {},
     "output_type": "display_data"
    },
    {
     "data": {
      "image/png": "[encoded data removed]",
      "text/plain": [
       "<matplotlib.figure.Figure at 0x1088e3588>"
      ]
     },
     "metadata": {},
     "output_type": "display_data"
    }
   ],
   "source": [
    "# now lets see the statistics of these attributes\n",
    "from pandas.tools.plotting import boxplot\n",
    "\n",
    "# group the original data and the support vectors\n",
    "df_grouped_support = df_support.groupby(['FATALS'])\n",
    "df_grouped = df_imputed.groupby(['FATALS'])\n",
    "\n",
    "# plot KDE of Different variables\n",
    "vars_to_plot = ['DRUNK_DR','TOT_PERS','RUR_URB','WEATHER']\n",
    "\n",
    "for v in vars_to_plot:\n",
    "    plt.figure(figsize=(10,4))\n",
    "    # plot support vector stats\n",
    "    plt.subplot(1,2,1)\n",
    "    ax = df_grouped_support[v].plot.kde() \n",
    "    plt.legend(['Single Fatality','Multi-Fatality'])\n",
    "    plt.title(v+' (Instances chosen as Support Vectors)')\n",
    "    \n",
    "    # plot original distributions\n",
    "    plt.subplot(1,2,2)\n",
    "    ax = df_grouped[v].plot.kde() \n",
    "    plt.legend(['Single Fatality','Multi-Fatality'])\n",
    "    plt.title(v+' (Original)')"
   ]
  },
  {
   "cell_type": "markdown",
   "metadata": {},
   "source": [
    "\n",
    "By reviewing the support vectors vs. the original data in these graphs, we can see that the separation in distributions is not as great as the separation for the original data. This is because the support vectors tend to be instances on the edge of the class boundaries and also instances that are classified incorrectly in the training data.\n"
   ]
  },
  {
   "cell_type": "markdown",
   "metadata": {},
   "source": [
    "## Model Advantages\n",
    "\n",
    "Each of the models do a fairly good job with prediction accuracy.  This is in large part due to the large number of single-fatality accidents in the dataset.  This leads to good model accuracy by almost always predicting single fatality accidents instead of multi-fatality accidents.  A balanced, scaled model appear to be our best predictor.\n",
    "\n",
    "### Model 1\n",
    "\n",
    "Model 1 was a logistic regression model with parameters of: Penalty = l2, Cost = 1.0, class_weight = None.  The accuracy of this model is good at about 92%, and from the confusion matricies we see a lot of True Positive predictions.  The model appears to predict more False Positives than it does False Negatives, and very few True Negatives.  This model definitely errs on the side of predicting single-fatality accidents.  Ten-fold cross validation ran efficiently with relatively short training time.\n",
    "\n",
    "### Model 2\n",
    "\n",
    "Model 2 was a logistic regression model with parameters of: Penalty = l2, Cost = 0.5, class_weight='balanced'.  The accuracy of this model is significantly lower than the previous model, at approximately 77%. From the confusion matricies we still see a lot of True Positive predictions, but also many more False Negative predictions than the previous model.  There are more True Negatives predictions, but this comes at the cost of a loss in overall accuracy.  This model errs on the side of predicting more multi-fatality accidents than the previous model.  Cross validation also ran efficiently with a relatively short training time.\n",
    "\n",
    "### Model 3\n",
    "\n",
    "Model 3 was a scaled logistic regression model with parameters of: Penalty='l2', C=0.05, class_weight=None.\n",
    "This model provides good accuracy at about 92-93%.  There are still a large number of True Positive results.  It tends to predict more False Positive results than False Negative results. As with the other logistic regression models, this model ran efficiently with relatively short training time.\n",
    "\n",
    "### Support Vector Machine model\n",
    "\n",
    "This model using support vectors was the most accurate model, with an accuracy of 93%.  Similar to model 1, it predicts mostly True Positives and False Positives.  The SVM model requires more time for training, but seems to produce more accurate predictions. From a graphical representation of key variables such as drunk drivers (DRUNK_DR), total persons (TOT_PERS), rural vs. urban environment (RUR_URB), and weather (WEATHER), we can visualize how well the support vectors represent the original data.\n"
   ]
  },
  {
   "cell_type": "markdown",
   "metadata": {},
   "source": [
    "## Interpret Feature Importance\n",
    "\n",
    "Now we will review the feature coefficients of our preferred model.  The coefficient weights are from Model 3, with pararmeters of: Scaled/Normalized, Penalty=l2, Cost=0.5, class_weight=None.  We will interpret the key coefficients of the model.\n"
   ]
  },
  {
   "cell_type": "code",
   "execution_count": 16,
   "metadata": {
    "scrolled": true
   },
   "outputs": [
    {
     "name": "stdout",
     "output_type": "stream",
     "text": [
      "WEATHER has weight of -0.132030897165\n",
      "SCH_BUS has weight of -0.0814522170885\n",
      "TIME has weight of -0.0626287698033\n",
      "LATITUDE has weight of -0.0493734171718\n",
      "WEATHER2 has weight of -0.0189562889989\n",
      "DAY_WEEK has weight of -0.0117043799354\n",
      "WRK_ZONE has weight of -0.00862816734872\n",
      "MONTH has weight of 0.032348378121\n",
      "LONGITUD has weight of 0.0325483918982\n",
      "HARM_EV has weight of 0.130018801904\n",
      "WEATHER1 has weight of 0.131130081085\n",
      "DRUNK_DR has weight of 0.251618502784\n",
      "RUR_URB has weight of 0.334444540253\n",
      "TOT_PERS has weight of 0.655709428028\n"
     ]
    }
   ],
   "source": [
    "# Model 3 - Interpretation of weights\n",
    "\n",
    "# iterate over the coefficients\n",
    "weights = lr_clf.coef_.T # take transpose to make a column vector\n",
    "variable_names = df_imputed.columns\n",
    "for coef, name in sorted(zip(weights,variable_names)):\n",
    "    print(name, 'has weight of', coef[0])\n",
    "    "
   ]
  },
  {
   "cell_type": "markdown",
   "metadata": {},
   "source": [
    "### Interpretation of key features of the model\n",
    "\n",
    "From the coefficients, we can see that the number of people (TOT_PERS) involved in the accident has the greatest weight as a positive predictor of multi-fatality accidents.  It intuitively makes sense that more fatalities occur when there are more people involved in the accident.  \n",
    "\n",
    "Proximity to populated areas (RUR_URB) was also positively correlelated to predicting accidents with multiple fatalities.  Accidents occuring in urban areas were good predictors of multi-fatality accidents. \n",
    "\n",
    "As you would expect, drunk driving (DRUNK_DR) was also a significant predictor for multi-fatality accidents, with a moderately positive correlation.  \n",
    "\n",
    "Finally, weather (WEATHER/WEATHER1/WEATHER2) also plays a somewhat limited role in predicting multi-fatality accidents. \n",
    "\n",
    "Many of the remaining attributes don't appear to have very significant weightings in the predictive model.\n"
   ]
  },
  {
   "cell_type": "markdown",
   "metadata": {},
   "source": [
    "## Interpret Support Vectors\n",
    "\n",
    "\n",
    "\n",
    "\n",
    "\n",
    "\n"
   ]
  },
  {
   "cell_type": "markdown",
   "metadata": {
    "collapsed": true
   },
   "source": [
    "For our visualizations, there are four line graphs of DRUNK_DR, TOT_PERS, RUR_URB, and WEATHER based on their Support Vector Machine vs Original values. The Y-Axis shows the density while the X-Axis shows the range of the separation. Density is the interaction between the number of population and the space between them. Based on the count of fatalities in the beginning of this Jupyter Notebook, there was a large difference between the count of Single-Fatality compared to Multi-Fatality accidents (29,816 Single vs. 2,350 Multi). As a result, we expect that the Single Fatalities have a higher density since there were significantly more samples of Single Fatalities vs Multi-Fatalities. Logistic Regression and Support Vector Machine modeling was possible with the size of our population. We chose not perform a stochastic gradient descent since we were able to perform the other modeling methods. \n",
    "\n",
    "For our Support Vector Machine model above, the model produced an accuracy level of 93% (rounded). There were 5,983 predictions of True Positives while the model predicted 451 cases of False Positives. As a whole, we believe the model is still valid and effective with its relatively high accuracy and low False Positives and False Negatives, even though it requires more time to train.\n",
    "\n"
   ]
  },
  {
   "cell_type": "code",
   "execution_count": null,
   "metadata": {
    "collapsed": true
   },
   "outputs": [],
   "source": []
  }
 ],
 "metadata": {
  "kernelspec": {
   "display_name": "Python 2",
   "language": "python",
   "name": "python2"
  },
  "language_info": {
   "codemirror_mode": {
    "name": "ipython",
    "version": 2
   },
   "file_extension": ".py",
   "mimetype": "text/x-python",
   "name": "python",
   "nbconvert_exporter": "python",
   "pygments_lexer": "ipython2",
   "version": "2.7.13"
  }
 },
 "nbformat": 4,
 "nbformat_minor": 2
}
